{
  "cells": [
    {
      "cell_type": "markdown",
      "metadata": {
        "id": "l_sWylApQ-mj"
      },
      "source": [
        "PROJETO INTEGRADOR IV - Análise de acidentes de trânsito no estado de São Paulo"
      ]
    },
    {
      "cell_type": "code",
      "execution_count": null,
      "metadata": {},
      "outputs": [],
      "source": [
        "%pip install pandas\n",
        "%pip install numpy\n",
        "%pip install matplotlib.pyplot \n",
        "%pip install seaborn"
      ]
    },
    {
      "cell_type": "code",
      "execution_count": 1,
      "metadata": {
        "id": "mWA1TRPUdlly"
      },
      "outputs": [],
      "source": [
        "import pandas as pd\n",
        "import numpy as np\n",
        "import matplotlib.pyplot as plt\n",
        "import seaborn as sns\n"
      ]
    },
    {
      "cell_type": "markdown",
      "metadata": {
        "id": "d1DrYl4nRSld"
      },
      "source": [
        "Pré processamento\n",
        "\n",
        "*   Limpeza\n",
        "*   Transfomação\n",
        "*   Feature Engineering"
      ]
    },
    {
      "cell_type": "markdown",
      "metadata": {
        "id": "EIugnUZER50F"
      },
      "source": [
        " EDA - Análise exploratória dos dados"
      ]
    },
    {
      "cell_type": "markdown",
      "metadata": {
        "id": "Ivg53fBHSBvk"
      },
      "source": [
        "Seleção do modelo e treinamento do modelo"
      ]
    },
    {
      "cell_type": "markdown",
      "metadata": {
        "id": "GDq6_C1wSGUF"
      },
      "source": [
        "Validação e avaliação do modelo"
      ]
    }
  ],
  "metadata": {
    "colab": {
      "provenance": [],
      "toc_visible": true
    },
    "kernelspec": {
      "display_name": "Python 3",
      "name": "python3"
    },
    "language_info": {
      "name": "python"
    }
  },
  "nbformat": 4,
  "nbformat_minor": 0
}
