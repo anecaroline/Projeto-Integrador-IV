{
 "cells": [
  {
   "cell_type": "markdown",
   "metadata": {},
   "source": [
    "Aprendizado de máquinas (ML)"
   ]
  },
  {
   "cell_type": "code",
   "execution_count": 26,
   "metadata": {},
   "outputs": [],
   "source": [
    "import pandas as pd\n",
    "from sklearn.model_selection import train_test_split\n",
    "from sklearn.pipeline import Pipeline\n",
    "from sklearn.preprocessing import OneHotEncoder\n",
    "from sklearn.linear_model import LogisticRegression\n",
    "from sklearn.compose import ColumnTransformer\n",
    "from sklearn.metrics import classification_report\n",
    "from sklearn.metrics import confusion_matrix\n",
    "import matplotlib.pyplot as plt\n",
    "import seaborn as sns\n",
    "from imblearn.over_sampling import RandomOverSampler"
   ]
  },
  {
   "cell_type": "code",
   "execution_count": 10,
   "metadata": {},
   "outputs": [],
   "source": [
    "dados = pd.read_excel('base_treino.xlsx')"
   ]
  },
  {
   "cell_type": "code",
   "execution_count": 11,
   "metadata": {},
   "outputs": [
    {
     "data": {
      "text/html": [
       "<div>\n",
       "<style scoped>\n",
       "    .dataframe tbody tr th:only-of-type {\n",
       "        vertical-align: middle;\n",
       "    }\n",
       "\n",
       "    .dataframe tbody tr th {\n",
       "        vertical-align: top;\n",
       "    }\n",
       "\n",
       "    .dataframe thead th {\n",
       "        text-align: right;\n",
       "    }\n",
       "</style>\n",
       "<table border=\"1\" class=\"dataframe\">\n",
       "  <thead>\n",
       "    <tr style=\"text-align: right;\">\n",
       "      <th></th>\n",
       "      <th>Tipo de pista</th>\n",
       "      <th>uso_solo</th>\n",
       "      <th>categoria</th>\n",
       "      <th>Periodo do dia</th>\n",
       "      <th>Condição metereologica</th>\n",
       "      <th>Ferido</th>\n",
       "    </tr>\n",
       "  </thead>\n",
       "  <tbody>\n",
       "    <tr>\n",
       "      <th>0</th>\n",
       "      <td>Dupla</td>\n",
       "      <td>Urbano</td>\n",
       "      <td>final de semana e feriado</td>\n",
       "      <td>noite</td>\n",
       "      <td>Bom</td>\n",
       "      <td>Sim</td>\n",
       "    </tr>\n",
       "    <tr>\n",
       "      <th>1</th>\n",
       "      <td>Dupla</td>\n",
       "      <td>Rural</td>\n",
       "      <td>final de semana e feriado</td>\n",
       "      <td>noite</td>\n",
       "      <td>Bom</td>\n",
       "      <td>Não</td>\n",
       "    </tr>\n",
       "    <tr>\n",
       "      <th>2</th>\n",
       "      <td>Dupla</td>\n",
       "      <td>Urbano</td>\n",
       "      <td>final de semana e feriado</td>\n",
       "      <td>noite</td>\n",
       "      <td>Ruim</td>\n",
       "      <td>Não</td>\n",
       "    </tr>\n",
       "    <tr>\n",
       "      <th>3</th>\n",
       "      <td>Dupla</td>\n",
       "      <td>Rural</td>\n",
       "      <td>final de semana e feriado</td>\n",
       "      <td>noite</td>\n",
       "      <td>Ruim</td>\n",
       "      <td>Sim</td>\n",
       "    </tr>\n",
       "    <tr>\n",
       "      <th>4</th>\n",
       "      <td>Dupla</td>\n",
       "      <td>Urbano</td>\n",
       "      <td>final de semana e feriado</td>\n",
       "      <td>noite</td>\n",
       "      <td>Bom</td>\n",
       "      <td>Não</td>\n",
       "    </tr>\n",
       "  </tbody>\n",
       "</table>\n",
       "</div>"
      ],
      "text/plain": [
       "  Tipo de pista uso_solo                  categoria Periodo do dia  \\\n",
       "0         Dupla   Urbano  final de semana e feriado          noite   \n",
       "1         Dupla    Rural  final de semana e feriado          noite   \n",
       "2         Dupla   Urbano  final de semana e feriado          noite   \n",
       "3         Dupla    Rural  final de semana e feriado          noite   \n",
       "4         Dupla   Urbano  final de semana e feriado          noite   \n",
       "\n",
       "  Condição metereologica Ferido  \n",
       "0                    Bom    Sim  \n",
       "1                    Bom    Não  \n",
       "2                   Ruim    Não  \n",
       "3                   Ruim    Sim  \n",
       "4                    Bom    Não  "
      ]
     },
     "execution_count": 11,
     "metadata": {},
     "output_type": "execute_result"
    }
   ],
   "source": [
    "dados.head()"
   ]
  },
  {
   "cell_type": "code",
   "execution_count": 12,
   "metadata": {},
   "outputs": [
    {
     "data": {
      "text/plain": [
       "Index(['Tipo de pista', 'uso_solo', 'categoria', 'Periodo do dia',\n",
       "       'Condição metereologica', 'Ferido'],\n",
       "      dtype='object')"
      ]
     },
     "execution_count": 12,
     "metadata": {},
     "output_type": "execute_result"
    }
   ],
   "source": [
    "dados.columns"
   ]
  },
  {
   "cell_type": "code",
   "execution_count": 13,
   "metadata": {},
   "outputs": [
    {
     "name": "stderr",
     "output_type": "stream",
     "text": [
      "C:\\Users\\aneca\\AppData\\Local\\Temp\\ipykernel_13580\\481989792.py:1: FutureWarning: Downcasting behavior in `replace` is deprecated and will be removed in a future version. To retain the old behavior, explicitly call `result.infer_objects(copy=False)`. To opt-in to the future behavior, set `pd.set_option('future.no_silent_downcasting', True)`\n",
      "  dados['Ferido'] = dados['Ferido'].replace({'Não': 0, 'Sim': 1})\n"
     ]
    }
   ],
   "source": [
    "dados['Ferido'] = dados['Ferido'].replace({'Não': 0, 'Sim': 1})"
   ]
  },
  {
   "cell_type": "code",
   "execution_count": 14,
   "metadata": {},
   "outputs": [
    {
     "data": {
      "text/html": [
       "<div>\n",
       "<style scoped>\n",
       "    .dataframe tbody tr th:only-of-type {\n",
       "        vertical-align: middle;\n",
       "    }\n",
       "\n",
       "    .dataframe tbody tr th {\n",
       "        vertical-align: top;\n",
       "    }\n",
       "\n",
       "    .dataframe thead th {\n",
       "        text-align: right;\n",
       "    }\n",
       "</style>\n",
       "<table border=\"1\" class=\"dataframe\">\n",
       "  <thead>\n",
       "    <tr style=\"text-align: right;\">\n",
       "      <th></th>\n",
       "      <th>Tipo de pista</th>\n",
       "      <th>uso_solo</th>\n",
       "      <th>categoria</th>\n",
       "      <th>Periodo do dia</th>\n",
       "      <th>Condição metereologica</th>\n",
       "      <th>Ferido</th>\n",
       "    </tr>\n",
       "  </thead>\n",
       "  <tbody>\n",
       "    <tr>\n",
       "      <th>0</th>\n",
       "      <td>Dupla</td>\n",
       "      <td>Urbano</td>\n",
       "      <td>final de semana e feriado</td>\n",
       "      <td>noite</td>\n",
       "      <td>Bom</td>\n",
       "      <td>1</td>\n",
       "    </tr>\n",
       "    <tr>\n",
       "      <th>1</th>\n",
       "      <td>Dupla</td>\n",
       "      <td>Rural</td>\n",
       "      <td>final de semana e feriado</td>\n",
       "      <td>noite</td>\n",
       "      <td>Bom</td>\n",
       "      <td>0</td>\n",
       "    </tr>\n",
       "    <tr>\n",
       "      <th>2</th>\n",
       "      <td>Dupla</td>\n",
       "      <td>Urbano</td>\n",
       "      <td>final de semana e feriado</td>\n",
       "      <td>noite</td>\n",
       "      <td>Ruim</td>\n",
       "      <td>0</td>\n",
       "    </tr>\n",
       "    <tr>\n",
       "      <th>3</th>\n",
       "      <td>Dupla</td>\n",
       "      <td>Rural</td>\n",
       "      <td>final de semana e feriado</td>\n",
       "      <td>noite</td>\n",
       "      <td>Ruim</td>\n",
       "      <td>1</td>\n",
       "    </tr>\n",
       "    <tr>\n",
       "      <th>4</th>\n",
       "      <td>Dupla</td>\n",
       "      <td>Urbano</td>\n",
       "      <td>final de semana e feriado</td>\n",
       "      <td>noite</td>\n",
       "      <td>Bom</td>\n",
       "      <td>0</td>\n",
       "    </tr>\n",
       "  </tbody>\n",
       "</table>\n",
       "</div>"
      ],
      "text/plain": [
       "  Tipo de pista uso_solo                  categoria Periodo do dia  \\\n",
       "0         Dupla   Urbano  final de semana e feriado          noite   \n",
       "1         Dupla    Rural  final de semana e feriado          noite   \n",
       "2         Dupla   Urbano  final de semana e feriado          noite   \n",
       "3         Dupla    Rural  final de semana e feriado          noite   \n",
       "4         Dupla   Urbano  final de semana e feriado          noite   \n",
       "\n",
       "  Condição metereologica  Ferido  \n",
       "0                    Bom       1  \n",
       "1                    Bom       0  \n",
       "2                   Ruim       0  \n",
       "3                   Ruim       1  \n",
       "4                    Bom       0  "
      ]
     },
     "execution_count": 14,
     "metadata": {},
     "output_type": "execute_result"
    }
   ],
   "source": [
    "dados.head()"
   ]
  },
  {
   "cell_type": "code",
   "execution_count": 15,
   "metadata": {},
   "outputs": [],
   "source": [
    "X = dados[['Tipo de pista','uso_solo','categoria','Periodo do dia','Condição metereologica']]\n",
    "y = dados['Ferido']"
   ]
  },
  {
   "cell_type": "code",
   "execution_count": 16,
   "metadata": {},
   "outputs": [],
   "source": [
    "# Dividir o conjunto de dados\n",
    "X_train, X_test, y_train, y_test = train_test_split(X, y, test_size=0.2, random_state=42)\n"
   ]
  },
  {
   "cell_type": "code",
   "execution_count": null,
   "metadata": {},
   "outputs": [],
   "source": [
    "# 4. Definir a pipeline\n",
    "# Definindo as colunas categóricas e numéricas\n",
    "categorical_features = ['Tipo de pista','uso_solo','categoria','Periodo do dia','Condição metereologica']\n",
    "\n",
    "\n",
    "# Criar transformador de coluna\n",
    "preprocessor = ColumnTransformer(\n",
    "    transformers=[\n",
    "        ('cat', OneHotEncoder(), categorical_features)\n",
    "    ],\n",
    "    #remainder='passthrough'  # Manter as colunas numéricas\n",
    ")\n",
    "\n",
    "pipeline = Pipeline(steps=[\n",
    "    ('preprocessor', preprocessor),\n",
    "    ('classifier', LogisticRegression())  # Modelo de regressão logística\n",
    "])\n"
   ]
  },
  {
   "cell_type": "code",
   "execution_count": 18,
   "metadata": {},
   "outputs": [
    {
     "name": "stdout",
     "output_type": "stream",
     "text": [
      "              precision    recall  f1-score   support\n",
      "\n",
      "           0       0.00      0.00      0.00      1354\n",
      "           1       0.83      1.00      0.91      6851\n",
      "\n",
      "    accuracy                           0.83      8205\n",
      "   macro avg       0.42      0.50      0.46      8205\n",
      "weighted avg       0.70      0.83      0.76      8205\n",
      "\n"
     ]
    },
    {
     "name": "stderr",
     "output_type": "stream",
     "text": [
      "c:\\Python311\\Lib\\site-packages\\sklearn\\metrics\\_classification.py:1531: UndefinedMetricWarning: Precision is ill-defined and being set to 0.0 in labels with no predicted samples. Use `zero_division` parameter to control this behavior.\n",
      "  _warn_prf(average, modifier, f\"{metric.capitalize()} is\", len(result))\n",
      "c:\\Python311\\Lib\\site-packages\\sklearn\\metrics\\_classification.py:1531: UndefinedMetricWarning: Precision is ill-defined and being set to 0.0 in labels with no predicted samples. Use `zero_division` parameter to control this behavior.\n",
      "  _warn_prf(average, modifier, f\"{metric.capitalize()} is\", len(result))\n",
      "c:\\Python311\\Lib\\site-packages\\sklearn\\metrics\\_classification.py:1531: UndefinedMetricWarning: Precision is ill-defined and being set to 0.0 in labels with no predicted samples. Use `zero_division` parameter to control this behavior.\n",
      "  _warn_prf(average, modifier, f\"{metric.capitalize()} is\", len(result))\n"
     ]
    }
   ],
   "source": [
    "# 5. Treinar o modelo\n",
    "pipeline.fit(X_train, y_train)\n",
    "\n",
    "# 6. Fazer previsões e avaliar o modelo\n",
    "y_pred = pipeline.predict(X_test)\n",
    "\n",
    "# Imprimir o relatório de classificação\n",
    "print(classification_report(y_test, y_pred))"
   ]
  },
  {
   "cell_type": "code",
   "execution_count": 25,
   "metadata": {},
   "outputs": [
    {
     "data": {
      "text/plain": [
       "Ferido\n",
       "1    0.835925\n",
       "0    0.164075\n",
       "Name: proportion, dtype: float64"
      ]
     },
     "execution_count": 25,
     "metadata": {},
     "output_type": "execute_result"
    }
   ],
   "source": [
    "dados['Ferido'].value_counts(normalize=True)"
   ]
  },
  {
   "cell_type": "code",
   "execution_count": 23,
   "metadata": {},
   "outputs": [
    {
     "data": {
      "image/png": "[encoded data removed]",
      "text/plain": [
       "<Figure size 800x600 with 2 Axes>"
      ]
     },
     "metadata": {},
     "output_type": "display_data"
    }
   ],
   "source": [
    "# 7. Gerar a matriz de confusão\n",
    "cm = confusion_matrix(y_test, y_pred)\n",
    "\n",
    "# 8. Plotar a matriz de confusão\n",
    "plt.figure(figsize=(8, 6))\n",
    "sns.heatmap(cm, annot=True, fmt='d', cmap='Blues', \n",
    "             xticklabels=['Classe 0', 'Classe 1'], \n",
    "             yticklabels=['Classe 0', 'Classe 1'])\n",
    "plt.title('Matriz de Confusão')\n",
    "plt.xlabel('Previsões')\n",
    "plt.ylabel('Verdadeiros')\n",
    "plt.show()"
   ]
  },
  {
   "cell_type": "markdown",
   "metadata": {},
   "source": [
    "Como está desbalanceado o modelo não consegue prever a classe 0 que se refere a não feridos, já que o dataset possui 86% de feridos."
   ]
  },
  {
   "cell_type": "code",
   "execution_count": 29,
   "metadata": {},
   "outputs": [
    {
     "data": {
      "image/png": "[encoded data removed]",
      "text/plain": [
       "<Figure size 800x600 with 2 Axes>"
      ]
     },
     "metadata": {},
     "output_type": "display_data"
    }
   ],
   "source": [
    "# Criar transformador para pré-processamento\n",
    "preprocessor1 = ColumnTransformer(\n",
    "    transformers=[\n",
    "        ('cat', OneHotEncoder(), categorical_features)  # Codificar características categóricas\n",
    "    ],\n",
    "    remainder='drop'  # Remover colunas não especificadas\n",
    ")\n",
    "\n",
    "# Criar a pipeline com RandomOverSampler e o classificador\n",
    "pipeline1 = Pipeline(steps=[\n",
    "    ('preprocessor', preprocessor1),\n",
    "    #('oversampler', RandomOverSampler()),  # Adicionar RandomOverSampler\n",
    "    ('classifier', LogisticRegression(class_weight=\"balanced\"))  # O classificador desejado\n",
    "])\n",
    "\n",
    "# Treinar o modelo\n",
    "pipeline1.fit(X_train, y_train)\n",
    "\n",
    "# Fazer previsões e avaliar o modelo\n",
    "y_pred1 = pipeline1.predict(X_test)\n",
    "\n",
    "# 7. Gerar a matriz de confusão\n",
    "cm1 = confusion_matrix(y_test, y_pred1)\n",
    "\n",
    "# 8. Plotar a matriz de confusão\n",
    "plt.figure(figsize=(8, 6))\n",
    "sns.heatmap(cm1, annot=True, fmt='d', cmap='Blues', \n",
    "             xticklabels=['Classe 0', 'Classe 1'], \n",
    "             yticklabels=['Classe 0', 'Classe 1'])\n",
    "plt.title('Matriz de Confusão')\n",
    "plt.xlabel('Previsões')\n",
    "plt.ylabel('Verdadeiros')\n",
    "plt.show()\n",
    "\n"
   ]
  },
  {
   "cell_type": "code",
   "execution_count": 31,
   "metadata": {},
   "outputs": [
    {
     "name": "stdout",
     "output_type": "stream",
     "text": [
      "              precision    recall  f1-score   support\n",
      "\n",
      "           0       0.20      0.52      0.29      1354\n",
      "           1       0.86      0.58      0.69      6851\n",
      "\n",
      "    accuracy                           0.57      8205\n",
      "   macro avg       0.53      0.55      0.49      8205\n",
      "weighted avg       0.75      0.57      0.63      8205\n",
      "\n"
     ]
    }
   ],
   "source": [
    "print(classification_report(y_test, y_pred1))"
   ]
  },
  {
   "cell_type": "markdown",
   "metadata": {},
   "source": [
    "Identificação de Acidentes: Se o objetivo principal for garantir que todos os acidentes de trânsito sejam identificados (por exemplo, em uma análise de segurança pública ou em um sistema de alerta), um alto recall é crucial. Isso significa que mesmo que algumas ocorrências sejam identificadas erroneamente, é mais importante garantir que o maior número possível de acidentes reais seja reconhecido.\n",
    "Minimização de Consequências: Um alto recall pode ajudar a evitar consequências graves, pois se mais acidentes forem identificados, as autoridades podem tomar medidas preventivas mais eficazes.\n",
    "\n"
   ]
  },
  {
   "cell_type": "code",
   "execution_count": 36,
   "metadata": {},
   "outputs": [
    {
     "name": "stdout",
     "output_type": "stream",
     "text": [
      "              precision    recall  f1-score   support\n",
      "\n",
      "           0       0.19      0.57      0.29      1354\n",
      "           1       0.86      0.53      0.66      6851\n",
      "\n",
      "    accuracy                           0.54      8205\n",
      "   macro avg       0.53      0.55      0.47      8205\n",
      "weighted avg       0.75      0.54      0.60      8205\n",
      "\n"
     ]
    }
   ],
   "source": [
    "# Aplicar RandomOverSampler no conjunto de treino\n",
    "ros = RandomOverSampler(random_state=42)\n",
    "X_resampled, y_resampled = ros.fit_resample(X_train, y_train)\n",
    "\n",
    "preprocessor2 = ColumnTransformer(\n",
    "    transformers=[\n",
    "        ('cat', OneHotEncoder(), categorical_features)  # Codificar características categóricas\n",
    "    ],\n",
    "    remainder='drop'  # Remover colunas não especificadas\n",
    ")\n",
    "\n",
    "# Criar a pipeline com RandomOverSampler e o classificador\n",
    "pipeline2 = Pipeline(steps=[\n",
    "    ('preprocessor', preprocessor2),\n",
    "    #('oversampler', RandomOverSampler()),  # Adicionar RandomOverSampler\n",
    "    ('classifier', LogisticRegression(class_weight=\"balanced\"))  # O classificador desejado\n",
    "])\n",
    "\n",
    "# Treinar a pipeline com os dados balanceados\n",
    "pipeline2.fit(X_resampled, y_resampled)\n",
    "\n",
    "# Fazer previsões e avaliar o modelo\n",
    "y_pred2 = pipeline2.predict(X_test)\n",
    "\n",
    "# # 7. Gerar a matriz de confusão\n",
    "# cm2 = confusion_matrix(y_test, y_resampled)\n",
    "\n",
    "# # 8. Plotar a matriz de confusão\n",
    "# plt.figure(figsize=(8, 6))\n",
    "# sns.heatmap(cm2, annot=True, fmt='d', cmap='Blues', \n",
    "#              xticklabels=['Classe 0', 'Classe 1'], \n",
    "#              yticklabels=['Classe 0', 'Classe 1'])\n",
    "# plt.title('Matriz de Confusão')\n",
    "# plt.xlabel('Previsões')\n",
    "# plt.ylabel('Verdadeiros')\n",
    "# plt.show()\n",
    "\n",
    "print(classification_report(y_test, y_pred2))\n",
    "\n",
    "\n"
   ]
  }
 ],
 "metadata": {
  "kernelspec": {
   "display_name": "Python 3",
   "language": "python",
   "name": "python3"
  },
  "language_info": {
   "codemirror_mode": {
    "name": "ipython",
    "version": 3
   },
   "file_extension": ".py",
   "mimetype": "text/x-python",
   "name": "python",
   "nbconvert_exporter": "python",
   "pygments_lexer": "ipython3",
   "version": "3.11.3"
  }
 },
 "nbformat": 4,
 "nbformat_minor": 2
}
