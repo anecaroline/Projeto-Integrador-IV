{
 "cells": [
  {
   "cell_type": "markdown",
   "metadata": {},
   "source": [
    "Aprendizado de máquinas (ML)"
   ]
  },
  {
   "cell_type": "code",
   "execution_count": 45,
   "metadata": {},
   "outputs": [],
   "source": [
    "import pandas as pd\n",
    "from sklearn.model_selection import train_test_split\n",
    "from sklearn.pipeline import Pipeline\n",
    "from sklearn.preprocessing import OneHotEncoder\n",
    "from sklearn.linear_model import LogisticRegression\n",
    "from sklearn.compose import ColumnTransformer\n",
    "from sklearn.metrics import classification_report\n",
    "from sklearn.metrics import confusion_matrix\n",
    "import matplotlib.pyplot as plt\n",
    "import seaborn as sns\n",
    "from imblearn.over_sampling import RandomOverSampler\n",
    "from sklearn.ensemble import RandomForestClassifier\n",
    "from sklearn.preprocessing import FunctionTransformer\n",
    "from sklearn.model_selection import (train_test_split as tts,\n",
    "                                     cross_validate as cv,\n",
    "                                     RandomizedSearchCV as rscv)\n",
    "from sklearn.ensemble import (RandomForestClassifier,\n",
    "                              AdaBoostClassifier,\n",
    "                              GradientBoostingClassifier)\n",
    "from sklearn.dummy import DummyClassifier\n",
    "from sklearn.neural_network import MLPClassifier\n",
    "import pickle \n"
   ]
  },
  {
   "cell_type": "code",
   "execution_count": 10,
   "metadata": {},
   "outputs": [],
   "source": [
    "dados = pd.read_excel('base_treino.xlsx')"
   ]
  },
  {
   "cell_type": "code",
   "execution_count": 11,
   "metadata": {},
   "outputs": [
    {
     "data": {
      "text/html": [
       "<div>\n",
       "<style scoped>\n",
       "    .dataframe tbody tr th:only-of-type {\n",
       "        vertical-align: middle;\n",
       "    }\n",
       "\n",
       "    .dataframe tbody tr th {\n",
       "        vertical-align: top;\n",
       "    }\n",
       "\n",
       "    .dataframe thead th {\n",
       "        text-align: right;\n",
       "    }\n",
       "</style>\n",
       "<table border=\"1\" class=\"dataframe\">\n",
       "  <thead>\n",
       "    <tr style=\"text-align: right;\">\n",
       "      <th></th>\n",
       "      <th>Tipo de pista</th>\n",
       "      <th>uso_solo</th>\n",
       "      <th>categoria</th>\n",
       "      <th>Periodo do dia</th>\n",
       "      <th>Condição metereologica</th>\n",
       "      <th>Ferido</th>\n",
       "    </tr>\n",
       "  </thead>\n",
       "  <tbody>\n",
       "    <tr>\n",
       "      <th>0</th>\n",
       "      <td>Dupla</td>\n",
       "      <td>Urbano</td>\n",
       "      <td>final de semana e feriado</td>\n",
       "      <td>noite</td>\n",
       "      <td>Bom</td>\n",
       "      <td>Sim</td>\n",
       "    </tr>\n",
       "    <tr>\n",
       "      <th>1</th>\n",
       "      <td>Dupla</td>\n",
       "      <td>Rural</td>\n",
       "      <td>final de semana e feriado</td>\n",
       "      <td>noite</td>\n",
       "      <td>Bom</td>\n",
       "      <td>Não</td>\n",
       "    </tr>\n",
       "    <tr>\n",
       "      <th>2</th>\n",
       "      <td>Dupla</td>\n",
       "      <td>Urbano</td>\n",
       "      <td>final de semana e feriado</td>\n",
       "      <td>noite</td>\n",
       "      <td>Ruim</td>\n",
       "      <td>Não</td>\n",
       "    </tr>\n",
       "    <tr>\n",
       "      <th>3</th>\n",
       "      <td>Dupla</td>\n",
       "      <td>Rural</td>\n",
       "      <td>final de semana e feriado</td>\n",
       "      <td>noite</td>\n",
       "      <td>Ruim</td>\n",
       "      <td>Sim</td>\n",
       "    </tr>\n",
       "    <tr>\n",
       "      <th>4</th>\n",
       "      <td>Dupla</td>\n",
       "      <td>Urbano</td>\n",
       "      <td>final de semana e feriado</td>\n",
       "      <td>noite</td>\n",
       "      <td>Bom</td>\n",
       "      <td>Não</td>\n",
       "    </tr>\n",
       "  </tbody>\n",
       "</table>\n",
       "</div>"
      ],
      "text/plain": [
       "  Tipo de pista uso_solo                  categoria Periodo do dia  \\\n",
       "0         Dupla   Urbano  final de semana e feriado          noite   \n",
       "1         Dupla    Rural  final de semana e feriado          noite   \n",
       "2         Dupla   Urbano  final de semana e feriado          noite   \n",
       "3         Dupla    Rural  final de semana e feriado          noite   \n",
       "4         Dupla   Urbano  final de semana e feriado          noite   \n",
       "\n",
       "  Condição metereologica Ferido  \n",
       "0                    Bom    Sim  \n",
       "1                    Bom    Não  \n",
       "2                   Ruim    Não  \n",
       "3                   Ruim    Sim  \n",
       "4                    Bom    Não  "
      ]
     },
     "execution_count": 11,
     "metadata": {},
     "output_type": "execute_result"
    }
   ],
   "source": [
    "dados.head()"
   ]
  },
  {
   "cell_type": "code",
   "execution_count": 12,
   "metadata": {},
   "outputs": [
    {
     "data": {
      "text/plain": [
       "Index(['Tipo de pista', 'uso_solo', 'categoria', 'Periodo do dia',\n",
       "       'Condição metereologica', 'Ferido'],\n",
       "      dtype='object')"
      ]
     },
     "execution_count": 12,
     "metadata": {},
     "output_type": "execute_result"
    }
   ],
   "source": [
    "dados.columns"
   ]
  },
  {
   "cell_type": "code",
   "execution_count": 13,
   "metadata": {},
   "outputs": [
    {
     "name": "stderr",
     "output_type": "stream",
     "text": [
      "C:\\Users\\aneca\\AppData\\Local\\Temp\\ipykernel_13580\\481989792.py:1: FutureWarning: Downcasting behavior in `replace` is deprecated and will be removed in a future version. To retain the old behavior, explicitly call `result.infer_objects(copy=False)`. To opt-in to the future behavior, set `pd.set_option('future.no_silent_downcasting', True)`\n",
      "  dados['Ferido'] = dados['Ferido'].replace({'Não': 0, 'Sim': 1})\n"
     ]
    }
   ],
   "source": [
    "dados['Ferido'] = dados['Ferido'].replace({'Não': 0, 'Sim': 1})"
   ]
  },
  {
   "cell_type": "code",
   "execution_count": 14,
   "metadata": {},
   "outputs": [
    {
     "data": {
      "text/html": [
       "<div>\n",
       "<style scoped>\n",
       "    .dataframe tbody tr th:only-of-type {\n",
       "        vertical-align: middle;\n",
       "    }\n",
       "\n",
       "    .dataframe tbody tr th {\n",
       "        vertical-align: top;\n",
       "    }\n",
       "\n",
       "    .dataframe thead th {\n",
       "        text-align: right;\n",
       "    }\n",
       "</style>\n",
       "<table border=\"1\" class=\"dataframe\">\n",
       "  <thead>\n",
       "    <tr style=\"text-align: right;\">\n",
       "      <th></th>\n",
       "      <th>Tipo de pista</th>\n",
       "      <th>uso_solo</th>\n",
       "      <th>categoria</th>\n",
       "      <th>Periodo do dia</th>\n",
       "      <th>Condição metereologica</th>\n",
       "      <th>Ferido</th>\n",
       "    </tr>\n",
       "  </thead>\n",
       "  <tbody>\n",
       "    <tr>\n",
       "      <th>0</th>\n",
       "      <td>Dupla</td>\n",
       "      <td>Urbano</td>\n",
       "      <td>final de semana e feriado</td>\n",
       "      <td>noite</td>\n",
       "      <td>Bom</td>\n",
       "      <td>1</td>\n",
       "    </tr>\n",
       "    <tr>\n",
       "      <th>1</th>\n",
       "      <td>Dupla</td>\n",
       "      <td>Rural</td>\n",
       "      <td>final de semana e feriado</td>\n",
       "      <td>noite</td>\n",
       "      <td>Bom</td>\n",
       "      <td>0</td>\n",
       "    </tr>\n",
       "    <tr>\n",
       "      <th>2</th>\n",
       "      <td>Dupla</td>\n",
       "      <td>Urbano</td>\n",
       "      <td>final de semana e feriado</td>\n",
       "      <td>noite</td>\n",
       "      <td>Ruim</td>\n",
       "      <td>0</td>\n",
       "    </tr>\n",
       "    <tr>\n",
       "      <th>3</th>\n",
       "      <td>Dupla</td>\n",
       "      <td>Rural</td>\n",
       "      <td>final de semana e feriado</td>\n",
       "      <td>noite</td>\n",
       "      <td>Ruim</td>\n",
       "      <td>1</td>\n",
       "    </tr>\n",
       "    <tr>\n",
       "      <th>4</th>\n",
       "      <td>Dupla</td>\n",
       "      <td>Urbano</td>\n",
       "      <td>final de semana e feriado</td>\n",
       "      <td>noite</td>\n",
       "      <td>Bom</td>\n",
       "      <td>0</td>\n",
       "    </tr>\n",
       "  </tbody>\n",
       "</table>\n",
       "</div>"
      ],
      "text/plain": [
       "  Tipo de pista uso_solo                  categoria Periodo do dia  \\\n",
       "0         Dupla   Urbano  final de semana e feriado          noite   \n",
       "1         Dupla    Rural  final de semana e feriado          noite   \n",
       "2         Dupla   Urbano  final de semana e feriado          noite   \n",
       "3         Dupla    Rural  final de semana e feriado          noite   \n",
       "4         Dupla   Urbano  final de semana e feriado          noite   \n",
       "\n",
       "  Condição metereologica  Ferido  \n",
       "0                    Bom       1  \n",
       "1                    Bom       0  \n",
       "2                   Ruim       0  \n",
       "3                   Ruim       1  \n",
       "4                    Bom       0  "
      ]
     },
     "execution_count": 14,
     "metadata": {},
     "output_type": "execute_result"
    }
   ],
   "source": [
    "dados.head()"
   ]
  },
  {
   "cell_type": "code",
   "execution_count": 15,
   "metadata": {},
   "outputs": [],
   "source": [
    "X = dados[['Tipo de pista','uso_solo','categoria','Periodo do dia','Condição metereologica']]\n",
    "y = dados['Ferido']"
   ]
  },
  {
   "cell_type": "code",
   "execution_count": 16,
   "metadata": {},
   "outputs": [],
   "source": [
    "# Dividir o conjunto de dados\n",
    "X_train, X_test, y_train, y_test = train_test_split(X, y, test_size=0.2, random_state=42)\n"
   ]
  },
  {
   "cell_type": "code",
   "execution_count": null,
   "metadata": {},
   "outputs": [],
   "source": [
    "# 4. Definir a pipeline\n",
    "# Definindo as colunas categóricas e numéricas\n",
    "categorical_features = ['Tipo de pista','uso_solo','categoria','Periodo do dia','Condição metereologica']\n",
    "\n",
    "\n",
    "# Criar transformador de coluna\n",
    "preprocessor = ColumnTransformer(\n",
    "    transformers=[\n",
    "        ('cat', OneHotEncoder(), categorical_features)\n",
    "    ],\n",
    "    #remainder='passthrough'  # Manter as colunas numéricas\n",
    ")\n",
    "\n",
    "pipeline = Pipeline(steps=[\n",
    "    ('preprocessor', preprocessor),\n",
    "    ('classifier', LogisticRegression())  # Modelo de regressão logística\n",
    "])\n"
   ]
  },
  {
   "cell_type": "code",
   "execution_count": 18,
   "metadata": {},
   "outputs": [
    {
     "name": "stdout",
     "output_type": "stream",
     "text": [
      "              precision    recall  f1-score   support\n",
      "\n",
      "           0       0.00      0.00      0.00      1354\n",
      "           1       0.83      1.00      0.91      6851\n",
      "\n",
      "    accuracy                           0.83      8205\n",
      "   macro avg       0.42      0.50      0.46      8205\n",
      "weighted avg       0.70      0.83      0.76      8205\n",
      "\n"
     ]
    },
    {
     "name": "stderr",
     "output_type": "stream",
     "text": [
      "c:\\Python311\\Lib\\site-packages\\sklearn\\metrics\\_classification.py:1531: UndefinedMetricWarning: Precision is ill-defined and being set to 0.0 in labels with no predicted samples. Use `zero_division` parameter to control this behavior.\n",
      "  _warn_prf(average, modifier, f\"{metric.capitalize()} is\", len(result))\n",
      "c:\\Python311\\Lib\\site-packages\\sklearn\\metrics\\_classification.py:1531: UndefinedMetricWarning: Precision is ill-defined and being set to 0.0 in labels with no predicted samples. Use `zero_division` parameter to control this behavior.\n",
      "  _warn_prf(average, modifier, f\"{metric.capitalize()} is\", len(result))\n",
      "c:\\Python311\\Lib\\site-packages\\sklearn\\metrics\\_classification.py:1531: UndefinedMetricWarning: Precision is ill-defined and being set to 0.0 in labels with no predicted samples. Use `zero_division` parameter to control this behavior.\n",
      "  _warn_prf(average, modifier, f\"{metric.capitalize()} is\", len(result))\n"
     ]
    }
   ],
   "source": [
    "# 5. Treinar o modelo\n",
    "pipeline.fit(X_train, y_train)\n",
    "\n",
    "# 6. Fazer previsões e avaliar o modelo\n",
    "y_pred = pipeline.predict(X_test)\n",
    "\n",
    "# Imprimir o relatório de classificação\n",
    "print(classification_report(y_test, y_pred))"
   ]
  },
  {
   "cell_type": "code",
   "execution_count": 25,
   "metadata": {},
   "outputs": [
    {
     "data": {
      "text/plain": [
       "Ferido\n",
       "1    0.835925\n",
       "0    0.164075\n",
       "Name: proportion, dtype: float64"
      ]
     },
     "execution_count": 25,
     "metadata": {},
     "output_type": "execute_result"
    }
   ],
   "source": [
    "dados['Ferido'].value_counts(normalize=True)"
   ]
  },
  {
   "cell_type": "code",
   "execution_count": 23,
   "metadata": {},
   "outputs": [
    {
     "data": {
      "image/png": "[encoded data removed]",
      "text/plain": [
       "<Figure size 800x600 with 2 Axes>"
      ]
     },
     "metadata": {},
     "output_type": "display_data"
    }
   ],
   "source": [
    "# 7. Gerar a matriz de confusão\n",
    "cm = confusion_matrix(y_test, y_pred)\n",
    "\n",
    "# 8. Plotar a matriz de confusão\n",
    "plt.figure(figsize=(8, 6))\n",
    "sns.heatmap(cm, annot=True, fmt='d', cmap='Blues', \n",
    "             xticklabels=['Classe 0', 'Classe 1'], \n",
    "             yticklabels=['Classe 0', 'Classe 1'])\n",
    "plt.title('Matriz de Confusão')\n",
    "plt.xlabel('Previsões')\n",
    "plt.ylabel('Verdadeiros')\n",
    "plt.show()"
   ]
  },
  {
   "cell_type": "markdown",
   "metadata": {},
   "source": [
    "Como está desbalanceado o modelo não consegue prever a classe 0 que se refere a não feridos, já que o dataset possui 86% de feridos."
   ]
  },
  {
   "cell_type": "code",
   "execution_count": 29,
   "metadata": {},
   "outputs": [
    {
     "data": {
      "image/png": "[encoded data removed]",
      "text/plain": [
       "<Figure size 800x600 with 2 Axes>"
      ]
     },
     "metadata": {},
     "output_type": "display_data"
    }
   ],
   "source": [
    "# Criar transformador para pré-processamento\n",
    "preprocessor1 = ColumnTransformer(\n",
    "    transformers=[\n",
    "        ('cat', OneHotEncoder(), categorical_features)  # Codificar características categóricas\n",
    "    ],\n",
    "    remainder='drop'  # Remover colunas não especificadas\n",
    ")\n",
    "\n",
    "# Criar a pipeline com RandomOverSampler e o classificador\n",
    "pipeline1 = Pipeline(steps=[\n",
    "    ('preprocessor', preprocessor1),\n",
    "    #('oversampler', RandomOverSampler()),  # Adicionar RandomOverSampler\n",
    "    ('classifier', LogisticRegression(class_weight=\"balanced\"))  # O classificador desejado\n",
    "])\n",
    "\n",
    "# Treinar o modelo\n",
    "pipeline1.fit(X_train, y_train)\n",
    "\n",
    "# Fazer previsões e avaliar o modelo\n",
    "y_pred1 = pipeline1.predict(X_test)\n",
    "\n",
    "# 7. Gerar a matriz de confusão\n",
    "cm1 = confusion_matrix(y_test, y_pred1)\n",
    "\n",
    "# 8. Plotar a matriz de confusão\n",
    "plt.figure(figsize=(8, 6))\n",
    "sns.heatmap(cm1, annot=True, fmt='d', cmap='Blues', \n",
    "             xticklabels=['Classe 0', 'Classe 1'], \n",
    "             yticklabels=['Classe 0', 'Classe 1'])\n",
    "plt.title('Matriz de Confusão')\n",
    "plt.xlabel('Previsões')\n",
    "plt.ylabel('Verdadeiros')\n",
    "plt.show()\n",
    "\n"
   ]
  },
  {
   "cell_type": "code",
   "execution_count": 31,
   "metadata": {},
   "outputs": [
    {
     "name": "stdout",
     "output_type": "stream",
     "text": [
      "              precision    recall  f1-score   support\n",
      "\n",
      "           0       0.20      0.52      0.29      1354\n",
      "           1       0.86      0.58      0.69      6851\n",
      "\n",
      "    accuracy                           0.57      8205\n",
      "   macro avg       0.53      0.55      0.49      8205\n",
      "weighted avg       0.75      0.57      0.63      8205\n",
      "\n"
     ]
    }
   ],
   "source": [
    "print(classification_report(y_test, y_pred1))"
   ]
  },
  {
   "cell_type": "markdown",
   "metadata": {},
   "source": [
    "Identificação de Acidentes: Se o objetivo principal for garantir que todos os acidentes de trânsito sejam identificados (por exemplo, em uma análise de segurança pública ou em um sistema de alerta), um alto recall é crucial. Isso significa que mesmo que algumas ocorrências sejam identificadas erroneamente, é mais importante garantir que o maior número possível de acidentes reais seja reconhecido.\n",
    "Minimização de Consequências: Um alto recall pode ajudar a evitar consequências graves, pois se mais acidentes forem identificados, as autoridades podem tomar medidas preventivas mais eficazes.\n",
    "\n"
   ]
  },
  {
   "cell_type": "code",
   "execution_count": 39,
   "metadata": {},
   "outputs": [
    {
     "data": {
      "image/png": "[encoded data removed]",
      "text/plain": [
       "<Figure size 800x600 with 2 Axes>"
      ]
     },
     "metadata": {},
     "output_type": "display_data"
    },
    {
     "name": "stdout",
     "output_type": "stream",
     "text": [
      "              precision    recall  f1-score   support\n",
      "\n",
      "           0       0.19      0.57      0.29      1354\n",
      "           1       0.86      0.53      0.66      6851\n",
      "\n",
      "    accuracy                           0.54      8205\n",
      "   macro avg       0.53      0.55      0.47      8205\n",
      "weighted avg       0.75      0.54      0.60      8205\n",
      "\n"
     ]
    }
   ],
   "source": [
    "\n",
    "# Aplicar RandomOverSampler apenas no conjunto de treinamento\n",
    "ros = RandomOverSampler(random_state=42)\n",
    "X_resampled, y_resampled = ros.fit_resample(X_train, y_train)\n",
    "\n",
    "# Criar transformador para pré-processamento\n",
    "preprocessor2 = ColumnTransformer(\n",
    "    transformers=[\n",
    "        ('cat', OneHotEncoder(), categorical_features)  # Codificar características categóricas\n",
    "    ],\n",
    "    remainder='drop'  # Remover colunas não especificadas\n",
    ")\n",
    "\n",
    "# Criar a pipeline sem o RandomOverSampler, já que ele foi aplicado manualmente\n",
    "pipeline2 = Pipeline(steps=[\n",
    "    ('preprocessor', preprocessor2),\n",
    "    ('classifier', LogisticRegression(class_weight=\"balanced\"))  # O classificador desejado\n",
    "])\n",
    "\n",
    "# Treinar a pipeline com os dados balanceados\n",
    "pipeline2.fit(X_resampled, y_resampled)\n",
    "\n",
    "# Fazer previsões e avaliar o modelo\n",
    "y_pred2 = pipeline2.predict(X_test)\n",
    "\n",
    "# Gerar a matriz de confusão\n",
    "cm2 = confusion_matrix(y_test, y_pred2)\n",
    "\n",
    "# Plotar a matriz de confusão\n",
    "plt.figure(figsize=(8, 6))\n",
    "sns.heatmap(cm2, annot=True, fmt='d', cmap='Blues', \n",
    "             xticklabels=['Classe 0', 'Classe 1'], \n",
    "             yticklabels=['Classe 0', 'Classe 1'])\n",
    "plt.title('Matriz de Confusão')\n",
    "plt.xlabel('Previsões')\n",
    "plt.ylabel('Verdadeiros')\n",
    "plt.show()\n",
    "\n",
    "# Imprimir o relatório de classificação\n",
    "print(classification_report(y_test, y_pred2))\n",
    "\n"
   ]
  },
  {
   "cell_type": "code",
   "execution_count": 38,
   "metadata": {},
   "outputs": [
    {
     "name": "stdout",
     "output_type": "stream",
     "text": [
      "              precision    recall  f1-score   support\n",
      "\n",
      "           0       0.20      0.52      0.29      1354\n",
      "           1       0.86      0.58      0.69      6851\n",
      "\n",
      "    accuracy                           0.57      8205\n",
      "   macro avg       0.53      0.55      0.49      8205\n",
      "weighted avg       0.75      0.57      0.63      8205\n",
      "\n"
     ]
    }
   ],
   "source": [
    "# Criar transformador para pré-processamento\n",
    "preprocessor3 = ColumnTransformer(\n",
    "    transformers=[\n",
    "        ('cat', OneHotEncoder(), categorical_features)  # Codificar características categóricas\n",
    "    ],\n",
    "    remainder='drop'  # Remover colunas não especificadas\n",
    ")\n",
    "\n",
    "# Criar a pipeline com RandomOverSampler e o classificador RandomForestClassifier\n",
    "pipeline3 = Pipeline(steps=[\n",
    "    ('preprocessor', preprocessor3),\n",
    "    # Adicionar RandomOverSampler se desejar\n",
    "    ('classifier', RandomForestClassifier(class_weight=\"balanced\", random_state=42))  # O classificador desejado\n",
    "])\n",
    "\n",
    "# Treinar o modelo\n",
    "pipeline3.fit(X_train, y_train)\n",
    "\n",
    "# Fazer previsões e avaliar o modelo\n",
    "y_pred3 = pipeline1.predict(X_test)\n",
    "\n",
    "# 7. Gerar a matriz de confusão\n",
    "cm3 = confusion_matrix(y_test, y_pred3)\n",
    "\n",
    "# # 8. Plotar a matriz de confusão\n",
    "# plt.figure(figsize=(8, 6))\n",
    "# sns.heatmap(cm1, annot=True, fmt='d', cmap='Blues', \n",
    "#              xticklabels=['Classe 0', 'Classe 1'], \n",
    "#              yticklabels=['Classe 0', 'Classe 1'])\n",
    "# plt.title('Matriz de Confusão')\n",
    "# plt.xlabel('Previsões')\n",
    "# plt.ylabel('Verdadeiros')\n",
    "# plt.show()\n",
    "\n",
    "print(classification_report(y_test, y_pred3))"
   ]
  },
  {
   "cell_type": "code",
   "execution_count": 44,
   "metadata": {},
   "outputs": [
    {
     "data": {
      "image/png": "[encoded data removed]",
      "text/plain": [
       "<Figure size 800x600 with 2 Axes>"
      ]
     },
     "metadata": {},
     "output_type": "display_data"
    },
    {
     "name": "stdout",
     "output_type": "stream",
     "text": [
      "              precision    recall  f1-score   support\n",
      "\n",
      "           0       0.20      0.52      0.28      1354\n",
      "           1       0.86      0.58      0.69      6851\n",
      "\n",
      "    accuracy                           0.57      8205\n",
      "   macro avg       0.53      0.55      0.49      8205\n",
      "weighted avg       0.75      0.57      0.62      8205\n",
      "\n"
     ]
    }
   ],
   "source": [
    "# Criar transformador para pré-processamento\n",
    "preprocessor4 = ColumnTransformer(\n",
    "    transformers=[\n",
    "        ('cat', OneHotEncoder(), categorical_features)  # Codificar características categóricas\n",
    "    ],\n",
    "    remainder='drop'  # Remover colunas não especificadas\n",
    ")\n",
    "\n",
    "# Criar a pipeline com o classificador RandomForestClassifier\n",
    "pipeline4 = Pipeline(steps=[\n",
    "    ('preprocessor', preprocessor4),\n",
    "    ('classifier', RandomForestClassifier(class_weight=\"balanced\", random_state=42))  # O classificador desejado\n",
    "])\n",
    "\n",
    "# Treinar o modelo\n",
    "pipeline4.fit(X_train, y_train)\n",
    "\n",
    "# Aplicar RandomOverSampler aos dados de treino antes da previsão\n",
    "ros = RandomOverSampler(random_state=42)\n",
    "X_resampled, y_resampled = ros.fit_resample(X_train, y_train)\n",
    "\n",
    "# Treinar novamente o modelo com os dados balanceados\n",
    "pipeline4.fit(X_resampled, y_resampled)\n",
    "\n",
    "# Fazer previsões e avaliar o modelo\n",
    "y_pred4 = pipeline4.predict(X_test)\n",
    "\n",
    "# Gerar a matriz de confusão\n",
    "cm4 = confusion_matrix(y_test, y_pred4)\n",
    "\n",
    "# Plotar a matriz de confusão\n",
    "plt.figure(figsize=(8, 6))\n",
    "sns.heatmap(cm4, annot=True, fmt='d', cmap='Blues', \n",
    "             xticklabels=['Classe 0', 'Classe 1'], \n",
    "             yticklabels=['Classe 0', 'Classe 1'])\n",
    "plt.title('Matriz de Confusão')\n",
    "plt.xlabel('Previsões')\n",
    "plt.ylabel('Verdadeiros')\n",
    "plt.show()\n",
    "\n",
    "# Imprimir o relatório de classificação\n",
    "print(classification_report(y_test, y_pred4))"
   ]
  },
  {
   "cell_type": "markdown",
   "metadata": {},
   "source": [
    "As estatísticas apresentadas refletem a performance de um modelo de classificação, possivelmente utilizado para prever um evento binário, em um conjunto de dados que inclui as classes 0 e 1. A seguir, será feita uma descrição detalhada de cada métrica apresentada, considerando suas implicações e o que elas podem indicar sobre a eficácia do modelo.\n",
    "1. Precision (Precisão)\n",
    "\n",
    "    Classe 0: 0.20\n",
    "    Classe 1: 0.86\n",
    "\n",
    "A precisão é a proporção de previsões corretas entre todas as previsões positivas feitas pelo modelo. Para a classe 0, a precisão de 0.20 indica que apenas 20% das instâncias previstas como pertencentes à classe 0 realmente pertencem a essa classe, o que sugere uma alta taxa de falsos positivos. Por outro lado, a classe 1 apresenta uma precisão muito mais alta, de 0.86, significando que 86% das instâncias previstas como classe 1 estão corretas. Isso sugere que o modelo é eficaz em identificar corretamente a classe 1, mas falha significativamente ao classificar a classe 0.\n",
    "2. Recall (Sensibilidade)\n",
    "\n",
    "    Classe 0: 0.52\n",
    "    Classe 1: 0.58\n",
    "\n",
    "O recall, ou sensibilidade, mede a capacidade do modelo de identificar todas as instâncias verdadeiras de uma classe. O recall para a classe 0 é de 0.52, indicando que o modelo consegue identificar 52% das instâncias reais dessa classe. Para a classe 1, o recall é de 0.58, o que significa que o modelo identifica 58% das instâncias reais dessa classe. Ambos os valores de recall indicam que há espaço para melhorias, especialmente na detecção das instâncias da classe 1, que ainda deixam 42% das ocorrências não identificadas.\n",
    "3. F1-Score\n",
    "\n",
    "    Classe 0: 0.29\n",
    "    Classe 1: 0.69\n",
    "\n",
    "O F1-score é a média harmônica entre precisão e recall, proporcionando uma única métrica que considera tanto os falsos positivos quanto os falsos negativos. O F1-score para a classe 0 é de apenas 0.29, o que indica que o modelo tem um desempenho fraco ao classificar essa classe, refletindo a dificuldade do modelo em equilibrar precisão e recall. Por outro lado, o F1-score da classe 1 é de 0.69, o que demonstra um desempenho relativamente melhor, mas ainda indica a necessidade de melhorias.\n",
    "4. Support (Apoio)\n",
    "\n",
    "    Classe 0: 1354\n",
    "    Classe 1: 6851\n",
    "\n",
    "O suporte refere-se ao número de instâncias reais em cada classe. A classe 0 possui 1354 instâncias, enquanto a classe 1 possui 6851. Isso sugere um desbalanceamento significativo entre as classes, onde a classe 1 é majoritária. Esse desbalanceamento pode influenciar as métricas de avaliação, já que modelos tendem a favorecer a classe mais frequente.\n",
    "5. Accuracy (Acurácia)\n",
    "\n",
    "    Acurácia Total: 0.57\n",
    "\n",
    "A acurácia geral do modelo é de 57%, o que significa que o modelo acerta 57% das previsões totais. No entanto, a acurácia pode ser uma métrica enganadora em conjuntos de dados desbalanceados, pois um modelo que simplesmente prevê a classe majoritária (classe 1) teria uma alta acurácia, mas não seria útil.\n",
    "6. Macro Avg e Weighted Avg\n",
    "\n",
    "    Macro Avg:\n",
    "        Precision: 0.53\n",
    "        Recall: 0.55\n",
    "        F1-Score: 0.49\n",
    "\n",
    "A média macro é calculada tirando a média das métricas de cada classe, sem considerar o número de instâncias de cada classe. Isso fornece uma visão equilibrada do desempenho do modelo, mas também reflete a fraqueza na classe 0.\n",
    "\n",
    "    Weighted Avg:\n",
    "        Precision: 0.75\n",
    "        Recall: 0.57\n",
    "        F1-Score: 0.63\n",
    "\n",
    "A média ponderada leva em conta o suporte de cada classe ao calcular as métricas. Isso resulta em valores mais altos de precisão, recall e F1-score, indicando que a classe 1 está influenciando positivamente a média devido ao seu maior suporte.\n",
    "Conclusão\n",
    "\n",
    "Em suma, as estatísticas apresentadas indicam que, embora o modelo tenha um desempenho razoável em classificar a classe 1, ele apresenta fraquezas significativas na classificação da classe 0. A baixa precisão e F1-score da classe 0, combinadas com um recall que ainda deixa a desejar para ambas as classes, sinalizam a necessidade de melhorias no modelo. Métodos de balanceamento de dados, ajuste de hiperparâmetros e exploração de modelos alternativos podem ser considerados para melhorar a performance geral do modelo, especialmente na detecção da classe minoritária."
   ]
  },
  {
   "cell_type": "code",
   "execution_count": 46,
   "metadata": {},
   "outputs": [],
   "source": [
    "with open(\"pipelineRandomForest.pkl\",\"wb\") as file_model: # pode ser joblib tb\n",
    "    pickle.dump(pipeline4,file_model)"
   ]
  }
 ],
 "metadata": {
  "kernelspec": {
   "display_name": "Python 3",
   "language": "python",
   "name": "python3"
  },
  "language_info": {
   "codemirror_mode": {
    "name": "ipython",
    "version": 3
   },
   "file_extension": ".py",
   "mimetype": "text/x-python",
   "name": "python",
   "nbconvert_exporter": "python",
   "pygments_lexer": "ipython3",
   "version": "3.11.3"
  }
 },
 "nbformat": 4,
 "nbformat_minor": 2
}
